{
  "nbformat": 4,
  "nbformat_minor": 0,
  "metadata": {
    "colab": {
      "provenance": [],
      "gpuType": "T4",
      "authorship_tag": "ABX9TyPCB6/ThibqFxJGfXWID7oo",
      "include_colab_link": true
    },
    "kernelspec": {
      "name": "python3",
      "display_name": "Python 3"
    },
    "language_info": {
      "name": "python"
    },
    "accelerator": "GPU"
  },
  "cells": [
    {
      "cell_type": "markdown",
      "metadata": {
        "id": "view-in-github",
        "colab_type": "text"
      },
      "source": [
        "<a href=\"https://colab.research.google.com/github/prathmeshtiwari22/Pract/blob/main/torch_examples.ipynb\" target=\"_parent\"><img src=\"https://colab.research.google.com/assets/colab-badge.svg\" alt=\"Open In Colab\"/></a>"
      ]
    },
    {
      "cell_type": "code",
      "execution_count": 1,
      "metadata": {
        "id": "7Z6peGRq7KCs"
      },
      "outputs": [],
      "source": [
        "import torch"
      ]
    },
    {
      "cell_type": "code",
      "source": [
        "randint = torch.randint(-100,100,(6,))\n",
        "randint"
      ],
      "metadata": {
        "colab": {
          "base_uri": "https://localhost:8080/"
        },
        "id": "qA7C75h57jcQ",
        "outputId": "53df61c7-84c9-4807-c1b7-b56703df9972"
      },
      "execution_count": 2,
      "outputs": [
        {
          "output_type": "execute_result",
          "data": {
            "text/plain": [
              "tensor([-62,  75,  -4,  29,  14,   5])"
            ]
          },
          "metadata": {},
          "execution_count": 2
        }
      ]
    },
    {
      "cell_type": "code",
      "source": [
        "tensor= torch.tensor([[0.1,1.2],[2.2,3.1],[4.9,5.2]])\n",
        "tensor\n"
      ],
      "metadata": {
        "colab": {
          "base_uri": "https://localhost:8080/"
        },
        "id": "vey6yrtI754I",
        "outputId": "3788f2b5-cb81-4ea5-8df0-5db61d189c1e"
      },
      "execution_count": 3,
      "outputs": [
        {
          "output_type": "execute_result",
          "data": {
            "text/plain": [
              "tensor([[0.1000, 1.2000],\n",
              "        [2.2000, 3.1000],\n",
              "        [4.9000, 5.2000]])"
            ]
          },
          "metadata": {},
          "execution_count": 3
        }
      ]
    },
    {
      "cell_type": "code",
      "source": [
        "zeros = torch.zeros(2,3)\n",
        "zeros"
      ],
      "metadata": {
        "colab": {
          "base_uri": "https://localhost:8080/"
        },
        "id": "Q1Bi_9Ut8PwD",
        "outputId": "2087f94e-116b-488f-ab8e-71eb11426baf"
      },
      "execution_count": 4,
      "outputs": [
        {
          "output_type": "execute_result",
          "data": {
            "text/plain": [
              "tensor([[0., 0., 0.],\n",
              "        [0., 0., 0.]])"
            ]
          },
          "metadata": {},
          "execution_count": 4
        }
      ]
    },
    {
      "cell_type": "code",
      "source": [
        "ones = torch.ones(3,4)\n",
        "ones"
      ],
      "metadata": {
        "colab": {
          "base_uri": "https://localhost:8080/"
        },
        "id": "8te5slnF8idA",
        "outputId": "9f664917-3d12-4bae-feae-581e51a339fd"
      },
      "execution_count": 5,
      "outputs": [
        {
          "output_type": "execute_result",
          "data": {
            "text/plain": [
              "tensor([[1., 1., 1., 1.],\n",
              "        [1., 1., 1., 1.],\n",
              "        [1., 1., 1., 1.]])"
            ]
          },
          "metadata": {},
          "execution_count": 5
        }
      ]
    },
    {
      "cell_type": "code",
      "source": [
        "input = torch.empty(2,3)\n",
        "input"
      ],
      "metadata": {
        "colab": {
          "base_uri": "https://localhost:8080/"
        },
        "id": "BCms0lEV8m_A",
        "outputId": "dbd8e478-142a-4542-9ee6-9ae9b4aae894"
      },
      "execution_count": 6,
      "outputs": [
        {
          "output_type": "execute_result",
          "data": {
            "text/plain": [
              "tensor([[0., 0., 0.],\n",
              "        [0., 0., 0.]])"
            ]
          },
          "metadata": {},
          "execution_count": 6
        }
      ]
    },
    {
      "cell_type": "code",
      "source": [
        "arange=torch.arange(5)\n",
        "arange"
      ],
      "metadata": {
        "colab": {
          "base_uri": "https://localhost:8080/"
        },
        "id": "xdQsj2BB80UP",
        "outputId": "e62f3d9d-b7c7-4f1a-c664-e35887dc52b6"
      },
      "execution_count": 7,
      "outputs": [
        {
          "output_type": "execute_result",
          "data": {
            "text/plain": [
              "tensor([0, 1, 2, 3, 4])"
            ]
          },
          "metadata": {},
          "execution_count": 7
        }
      ]
    },
    {
      "cell_type": "code",
      "source": [
        "linspace= torch.linspace(3,10,steps=5)\n",
        "linspace"
      ],
      "metadata": {
        "colab": {
          "base_uri": "https://localhost:8080/"
        },
        "id": "zEk92I2M88e3",
        "outputId": "fa6c62d8-f0ea-4eae-cae2-22245cf8e8d0"
      },
      "execution_count": 8,
      "outputs": [
        {
          "output_type": "execute_result",
          "data": {
            "text/plain": [
              "tensor([ 3.0000,  4.7500,  6.5000,  8.2500, 10.0000])"
            ]
          },
          "metadata": {},
          "execution_count": 8
        }
      ]
    },
    {
      "cell_type": "code",
      "source": [
        "logspace=torch.logspace(start=-10,end=10,steps=5)\n",
        "logspace"
      ],
      "metadata": {
        "colab": {
          "base_uri": "https://localhost:8080/"
        },
        "id": "8aIQ9GOc9LNg",
        "outputId": "146da8a6-38e7-4e63-c068-5ca0dea33194"
      },
      "execution_count": 9,
      "outputs": [
        {
          "output_type": "execute_result",
          "data": {
            "text/plain": [
              "tensor([1.0000e-10, 1.0000e-05, 1.0000e+00, 1.0000e+05, 1.0000e+10])"
            ]
          },
          "metadata": {},
          "execution_count": 9
        }
      ]
    },
    {
      "cell_type": "code",
      "source": [
        "eye=torch.eye(5)\n",
        "eye"
      ],
      "metadata": {
        "colab": {
          "base_uri": "https://localhost:8080/"
        },
        "id": "8jEXGhRk9Zwo",
        "outputId": "6cbb3264-c59f-4547-849a-6de225904244"
      },
      "execution_count": 10,
      "outputs": [
        {
          "output_type": "execute_result",
          "data": {
            "text/plain": [
              "tensor([[1., 0., 0., 0., 0.],\n",
              "        [0., 1., 0., 0., 0.],\n",
              "        [0., 0., 1., 0., 0.],\n",
              "        [0., 0., 0., 1., 0.],\n",
              "        [0., 0., 0., 0., 1.]])"
            ]
          },
          "metadata": {},
          "execution_count": 10
        }
      ]
    },
    {
      "cell_type": "code",
      "source": [
        "a= torch.empty((2,3),dtype=torch.int64)\n",
        "empty_like=torch.empty_like(a)\n",
        "empty_like"
      ],
      "metadata": {
        "colab": {
          "base_uri": "https://localhost:8080/"
        },
        "id": "XN0JW-ag9xew",
        "outputId": "ede2f02c-7564-4a24-c4a3-f0505166e4a8"
      },
      "execution_count": 11,
      "outputs": [
        {
          "output_type": "execute_result",
          "data": {
            "text/plain": [
              "tensor([[              0,       780516544,       754313120],\n",
              "        [133166909091872,               0,               0]])"
            ]
          },
          "metadata": {},
          "execution_count": 11
        }
      ]
    },
    {
      "cell_type": "code",
      "source": [
        "import torch\n",
        "import time\n",
        "import numpy as np\n",
        "device = 'cuda' if torch.cuda.is_available() else 'cpu'\n",
        "device"
      ],
      "metadata": {
        "colab": {
          "base_uri": "https://localhost:8080/",
          "height": 35
        },
        "id": "-qA6jthB-GH4",
        "outputId": "1d992e47-16c0-4e6c-b809-86a5a108dcbc"
      },
      "execution_count": 12,
      "outputs": [
        {
          "output_type": "execute_result",
          "data": {
            "text/plain": [
              "'cuda'"
            ],
            "application/vnd.google.colaboratory.intrinsic+json": {
              "type": "string"
            }
          },
          "metadata": {},
          "execution_count": 12
        }
      ]
    },
    {
      "cell_type": "code",
      "source": [
        "start_time = time.time()\n",
        "zeros = torch.zeros(1,1)\n",
        "end_time = time.time()\n",
        "elapsed_time = end_time - start_time\n",
        "print(f\"{elapsed_time:.10f}\")"
      ],
      "metadata": {
        "colab": {
          "base_uri": "https://localhost:8080/"
        },
        "id": "xPP2HF0--UZH",
        "outputId": "93a77120-6fab-463b-bdad-ce8f06f1227f"
      },
      "execution_count": 13,
      "outputs": [
        {
          "output_type": "stream",
          "name": "stdout",
          "text": [
            "0.0022933483\n"
          ]
        }
      ]
    },
    {
      "cell_type": "code",
      "source": [
        "# embeddings, torch.stack, torch.multinomial, torch.tril, torch.triu, input.T / input.transpose, nn.Linear, torch.cat, F.softmax (show all the examples of functions/methods with pytorch docs)\n",
        "\n",
        "\n",
        "\n",
        "# Define a probability tensor\n",
        "probabilities = torch.tensor([0.1, 0.9])\n",
        "# 10% or 0.1 => 0, 90% or 0.9 => 1. each probability points to the index of the probability in the tensor\n",
        "# Draw 5 samples from the multinomial distribution\n",
        "samples = torch.multinomial(probabilities, num_samples=10, replacement=True)\n",
        "print(samples)"
      ],
      "metadata": {
        "colab": {
          "base_uri": "https://localhost:8080/"
        },
        "id": "JX1sMGTYBGqh",
        "outputId": "b90ec8e0-ff68-4d77-e188-2daecc828202"
      },
      "execution_count": 14,
      "outputs": [
        {
          "output_type": "stream",
          "name": "stdout",
          "text": [
            "tensor([1, 1, 1, 1, 1, 1, 1, 1, 1, 1])\n"
          ]
        }
      ]
    },
    {
      "cell_type": "code",
      "source": [
        "tensor = torch.tensor([1, 2, 3, 4])\n",
        "out = torch.cat((tensor, torch.tensor([5])), dim=0)\n",
        "out"
      ],
      "metadata": {
        "colab": {
          "base_uri": "https://localhost:8080/"
        },
        "id": "eCcR2dYkB3ax",
        "outputId": "bb5e9541-d8f0-4169-f9c5-04cc3ec1a779"
      },
      "execution_count": 15,
      "outputs": [
        {
          "output_type": "execute_result",
          "data": {
            "text/plain": [
              "tensor([1, 2, 3, 4, 5])"
            ]
          },
          "metadata": {},
          "execution_count": 15
        }
      ]
    },
    {
      "cell_type": "code",
      "source": [
        "out = torch.tril(torch.ones(5, 5))\n",
        "out"
      ],
      "metadata": {
        "colab": {
          "base_uri": "https://localhost:8080/"
        },
        "id": "Ajlbi6I8CJuY",
        "outputId": "dbd1224b-1fcf-4a02-acb7-0f0bf997c8a9"
      },
      "execution_count": 16,
      "outputs": [
        {
          "output_type": "execute_result",
          "data": {
            "text/plain": [
              "tensor([[1., 0., 0., 0., 0.],\n",
              "        [1., 1., 0., 0., 0.],\n",
              "        [1., 1., 1., 0., 0.],\n",
              "        [1., 1., 1., 1., 0.],\n",
              "        [1., 1., 1., 1., 1.]])"
            ]
          },
          "metadata": {},
          "execution_count": 16
        }
      ]
    },
    {
      "cell_type": "code",
      "source": [
        "out = torch.triu(torch.ones(5, 5))\n",
        "out"
      ],
      "metadata": {
        "colab": {
          "base_uri": "https://localhost:8080/"
        },
        "id": "wjPkOmNBCmlX",
        "outputId": "c30a5e79-3357-4d8a-9188-2149e3b9ab6c"
      },
      "execution_count": 17,
      "outputs": [
        {
          "output_type": "execute_result",
          "data": {
            "text/plain": [
              "tensor([[1., 1., 1., 1., 1.],\n",
              "        [0., 1., 1., 1., 1.],\n",
              "        [0., 0., 1., 1., 1.],\n",
              "        [0., 0., 0., 1., 1.],\n",
              "        [0., 0., 0., 0., 1.]])"
            ]
          },
          "metadata": {},
          "execution_count": 17
        }
      ]
    },
    {
      "cell_type": "code",
      "source": [
        "out = torch.zeros(5, 5).masked_fill(torch.tril(torch.ones(5, 5)) == 0, float('-inf'))\n",
        "out"
      ],
      "metadata": {
        "colab": {
          "base_uri": "https://localhost:8080/"
        },
        "id": "ibTEZ0RPCveE",
        "outputId": "6a94a45c-9963-4bbb-b090-884104a7ea09"
      },
      "execution_count": 18,
      "outputs": [
        {
          "output_type": "execute_result",
          "data": {
            "text/plain": [
              "tensor([[0., -inf, -inf, -inf, -inf],\n",
              "        [0., 0., -inf, -inf, -inf],\n",
              "        [0., 0., 0., -inf, -inf],\n",
              "        [0., 0., 0., 0., -inf],\n",
              "        [0., 0., 0., 0., 0.]])"
            ]
          },
          "metadata": {},
          "execution_count": 18
        }
      ]
    },
    {
      "cell_type": "code",
      "source": [
        "torch.exp(out)"
      ],
      "metadata": {
        "colab": {
          "base_uri": "https://localhost:8080/"
        },
        "id": "3QW0yy4hDkB_",
        "outputId": "082f2e34-7b35-4608-8641-11034606ecc5"
      },
      "execution_count": 19,
      "outputs": [
        {
          "output_type": "execute_result",
          "data": {
            "text/plain": [
              "tensor([[1., 0., 0., 0., 0.],\n",
              "        [1., 1., 0., 0., 0.],\n",
              "        [1., 1., 1., 0., 0.],\n",
              "        [1., 1., 1., 1., 0.],\n",
              "        [1., 1., 1., 1., 1.]])"
            ]
          },
          "metadata": {},
          "execution_count": 19
        }
      ]
    },
    {
      "cell_type": "code",
      "source": [
        "input = torch.zeros(2, 3, 4)\n",
        "out1 = input.transpose(0, 1)\n",
        "out2 = input.transpose(-2,-1)\n",
        "print(out1.shape)\n",
        "print(out2.shape)"
      ],
      "metadata": {
        "colab": {
          "base_uri": "https://localhost:8080/"
        },
        "id": "0SL7lUJBDuY3",
        "outputId": "4e72b71f-ff0d-4a09-b4ee-358ab1520797"
      },
      "execution_count": 20,
      "outputs": [
        {
          "output_type": "stream",
          "name": "stdout",
          "text": [
            "torch.Size([3, 2, 4])\n",
            "torch.Size([2, 4, 3])\n"
          ]
        }
      ]
    },
    {
      "cell_type": "code",
      "source": [
        "tensor1 = torch.tensor([1, 2, 3])\n",
        "tensor2 = torch.tensor([4, 5, 6])\n",
        "tensor3 = torch.tensor([7, 8, 9])\n",
        "\n",
        "# Stack the tensors along a new dimension\n",
        "stacked_tensor = torch.stack([tensor1, tensor2, tensor3])\n",
        "stacked_tensor"
      ],
      "metadata": {
        "colab": {
          "base_uri": "https://localhost:8080/"
        },
        "id": "5HfYKFeBD2Zn",
        "outputId": "28d01e4c-e9bc-4608-9538-94e541612443"
      },
      "execution_count": 21,
      "outputs": [
        {
          "output_type": "execute_result",
          "data": {
            "text/plain": [
              "tensor([[1, 2, 3],\n",
              "        [4, 5, 6],\n",
              "        [7, 8, 9]])"
            ]
          },
          "metadata": {},
          "execution_count": 21
        }
      ]
    },
    {
      "cell_type": "code",
      "source": [
        "import torch.nn as nn\n",
        "sample = torch.tensor([10.,10.,10.])\n",
        "linear = nn.Linear(3, 3, bias=False)\n",
        "print(linear(sample))"
      ],
      "metadata": {
        "colab": {
          "base_uri": "https://localhost:8080/"
        },
        "id": "4tfs2dJnE1pY",
        "outputId": "55f366e5-2625-4183-b206-756422709dca"
      },
      "execution_count": 22,
      "outputs": [
        {
          "output_type": "stream",
          "name": "stdout",
          "text": [
            "tensor([ -9.0304,   2.5445, -10.4020], grad_fn=<SqueezeBackward4>)\n"
          ]
        }
      ]
    },
    {
      "cell_type": "code",
      "source": [
        "import torch.nn.functional as F\n",
        "\n",
        "# Create a tensor\n",
        "tensor1 = torch.tensor([1.0, 2.0, 3.0])\n",
        "\n",
        "# Apply softmax using torch.nn.functional.softmax()\n",
        "softmax_output = F.softmax(tensor1, dim=0)\n",
        "\n",
        "print(softmax_output)"
      ],
      "metadata": {
        "colab": {
          "base_uri": "https://localhost:8080/"
        },
        "id": "KnGZKS6Rx710",
        "outputId": "e1352f39-559d-4efa-dfd0-63f15b8cba64"
      },
      "execution_count": 23,
      "outputs": [
        {
          "output_type": "stream",
          "name": "stdout",
          "text": [
            "tensor([0.0900, 0.2447, 0.6652])\n"
          ]
        }
      ]
    },
    {
      "cell_type": "code",
      "source": [
        "# Initialize an embedding layer\n",
        "vocab_size = 80\n",
        "embedding_dim = 6\n",
        "embedding = nn.Embedding(vocab_size, embedding_dim)\n",
        "\n",
        "# Create some input indices\n",
        "input_indices = torch.LongTensor([1, 5, 3, 2])\n",
        "\n",
        "# Apply the embedding layer\n",
        "embedded_output = embedding(input_indices)\n",
        "\n",
        "# The output will be a tensor of shape (4, 100), where 4 is the number of inputs\n",
        "# and 100 is the dimensionality of the embedding vectors\n",
        "print(embedded_output.shape)\n",
        "print(embedded_output)"
      ],
      "metadata": {
        "colab": {
          "base_uri": "https://localhost:8080/"
        },
        "id": "PVqfSVTPzfrR",
        "outputId": "de0b9b05-7581-4328-ae59-8eaf5c0b89a9"
      },
      "execution_count": 24,
      "outputs": [
        {
          "output_type": "stream",
          "name": "stdout",
          "text": [
            "torch.Size([4, 6])\n",
            "tensor([[-0.3605,  0.8716,  0.1553, -0.0848, -0.3457, -1.3913],\n",
            "        [-0.2661, -0.2791,  0.7376,  0.5977,  2.3671,  1.4409],\n",
            "        [ 0.2536,  0.7407,  0.0312,  1.0818,  0.5911, -0.8778],\n",
            "        [ 0.3388,  0.7964, -1.9244, -0.6873,  0.4101,  1.9206]],\n",
            "       grad_fn=<EmbeddingBackward0>)\n"
          ]
        }
      ]
    },
    {
      "cell_type": "code",
      "source": [
        "a = torch.tensor([[1,2],[3,4],[5,6]])\n",
        "b = torch.tensor([[7,8,9],[10,11,12]])\n",
        "# print(a @ b)\n",
        "print(torch.matmul(a, b))\n"
      ],
      "metadata": {
        "colab": {
          "base_uri": "https://localhost:8080/"
        },
        "id": "9Syc82_pz0S6",
        "outputId": "555e982d-ca88-40f7-d909-01453835c6c2"
      },
      "execution_count": 25,
      "outputs": [
        {
          "output_type": "stream",
          "name": "stdout",
          "text": [
            "tensor([[ 27,  30,  33],\n",
            "        [ 61,  68,  75],\n",
            "        [ 95, 106, 117]])\n"
          ]
        }
      ]
    },
    {
      "cell_type": "code",
      "source": [
        "int_64 = torch.randint(1, (3, 2)).float()\n",
        "#type int64\n",
        "float_32 = torch.rand(2,3)\n",
        "#type float32\n",
        "# print(int_64.dtype, float_32.dtype)\n",
        "result = torch.matmul(int_64, float_32)\n",
        "print(result)"
      ],
      "metadata": {
        "colab": {
          "base_uri": "https://localhost:8080/"
        },
        "id": "OZyElHVF0ioi",
        "outputId": "633f5ad9-4664-46b5-85e7-a093f56ce067"
      },
      "execution_count": 26,
      "outputs": [
        {
          "output_type": "stream",
          "name": "stdout",
          "text": [
            "tensor([[0., 0., 0.],\n",
            "        [0., 0., 0.],\n",
            "        [0., 0., 0.]])\n"
          ]
        }
      ]
    },
    {
      "cell_type": "code",
      "source": [
        "a = torch.rand(2, 3, 5)\n",
        "print(a.shape)\n",
        "x, y, z = a.shape\n",
        "a = a.view(x,y,z)\n",
        "# print(x, y, z)\n",
        "print(a.shape)"
      ],
      "metadata": {
        "colab": {
          "base_uri": "https://localhost:8080/"
        },
        "id": "FajX0bKfklf0",
        "outputId": "6e5edb7e-28b2-46ff-a210-4cb032e0303e"
      },
      "execution_count": 27,
      "outputs": [
        {
          "output_type": "stream",
          "name": "stdout",
          "text": [
            "torch.Size([2, 3, 5])\n",
            "torch.Size([2, 3, 5])\n"
          ]
        }
      ]
    },
    {
      "cell_type": "code",
      "source": [
        "input = torch.rand((4, 8, 10))\n",
        "B, T, C = input.shape\n",
        "output = input.view(B*T, C)\n",
        "print(output)\n",
        "# print(input)\n",
        "print(output[:, -1, :])"
      ],
      "metadata": {
        "colab": {
          "base_uri": "https://localhost:8080/",
          "height": 1000
        },
        "id": "GR_MthUN8mdz",
        "outputId": "3e83381d-b73b-4a7c-bd26-160f1d413401"
      },
      "execution_count": 28,
      "outputs": [
        {
          "output_type": "stream",
          "name": "stdout",
          "text": [
            "tensor([[0.5455, 0.1419, 0.3792, 0.0168, 0.8414, 0.9630, 0.8370, 0.6040, 0.1997,\n",
            "         0.3737],\n",
            "        [0.0161, 0.8654, 0.4223, 0.7311, 0.2255, 0.3926, 0.3186, 0.4060, 0.1268,\n",
            "         0.7239],\n",
            "        [0.7934, 0.6479, 0.1017, 0.5702, 0.6518, 0.9727, 0.4505, 0.4186, 0.5856,\n",
            "         0.9960],\n",
            "        [0.8156, 0.1255, 0.1660, 0.7923, 0.3119, 0.7309, 0.6057, 0.8055, 0.9353,\n",
            "         0.9923],\n",
            "        [0.3106, 0.0284, 0.3745, 0.6853, 0.8495, 0.3096, 0.8789, 0.0146, 0.9019,\n",
            "         0.1494],\n",
            "        [0.3217, 0.4809, 0.6049, 0.3948, 0.3298, 0.3455, 0.7311, 0.1294, 0.9554,\n",
            "         0.6426],\n",
            "        [0.0232, 0.9239, 0.5386, 0.6305, 0.9800, 0.8397, 0.0519, 0.7146, 0.4040,\n",
            "         0.1015],\n",
            "        [0.9481, 0.6088, 0.8401, 0.7052, 0.9045, 0.6424, 0.9540, 0.3859, 0.2499,\n",
            "         0.6100],\n",
            "        [0.0014, 0.5600, 0.5111, 0.4425, 0.2848, 0.3873, 0.8279, 0.8277, 0.8535,\n",
            "         0.2975],\n",
            "        [0.6016, 0.3197, 0.7069, 0.1707, 0.3251, 0.9448, 0.1577, 0.9920, 0.5728,\n",
            "         0.6082],\n",
            "        [0.3917, 0.2256, 0.7310, 0.2287, 0.0486, 0.1017, 0.8635, 0.4215, 0.0814,\n",
            "         0.2462],\n",
            "        [0.1719, 0.4337, 0.6325, 0.7670, 0.2832, 0.3677, 0.1082, 0.2360, 0.9911,\n",
            "         0.8275],\n",
            "        [0.9813, 0.6542, 0.5610, 0.1015, 0.5740, 0.5053, 0.4829, 0.6795, 0.8087,\n",
            "         0.2561],\n",
            "        [0.8644, 0.8111, 0.4866, 0.7364, 0.1320, 0.4792, 0.5995, 0.5008, 0.8989,\n",
            "         0.9114],\n",
            "        [0.3962, 0.3726, 0.0260, 0.8745, 0.0738, 0.1612, 0.9056, 0.6397, 0.9328,\n",
            "         0.2760],\n",
            "        [0.4992, 0.5181, 0.9663, 0.6678, 0.0214, 0.3797, 0.4692, 0.2452, 0.5241,\n",
            "         0.1563],\n",
            "        [0.7397, 0.5962, 0.9342, 0.6169, 0.0990, 0.5622, 0.5274, 0.2927, 0.3460,\n",
            "         0.9621],\n",
            "        [0.3268, 0.9770, 0.2054, 0.8223, 0.4699, 0.0758, 0.2457, 0.9492, 0.8099,\n",
            "         0.6889],\n",
            "        [0.5559, 0.5874, 0.8988, 0.3435, 0.1995, 0.8371, 0.8717, 0.9318, 0.0101,\n",
            "         0.3222],\n",
            "        [0.6040, 0.3039, 0.4107, 0.6278, 0.2773, 0.9881, 0.6882, 0.6610, 0.4271,\n",
            "         0.7855],\n",
            "        [0.4002, 0.5077, 0.8085, 0.9663, 0.9130, 0.3785, 0.4424, 0.2670, 0.8462,\n",
            "         0.1921],\n",
            "        [0.2798, 0.9415, 0.0987, 0.6169, 0.6649, 0.2825, 0.7220, 0.9374, 0.7344,\n",
            "         0.3217],\n",
            "        [0.8788, 0.5471, 0.3566, 0.4333, 0.1309, 0.0071, 0.7484, 0.1018, 0.7270,\n",
            "         0.3143],\n",
            "        [0.8855, 0.7444, 0.8281, 0.7519, 0.4979, 0.2431, 0.0961, 0.6737, 0.4416,\n",
            "         0.6065],\n",
            "        [0.5842, 0.2320, 0.9638, 0.0356, 0.8452, 0.5283, 0.9922, 0.8328, 0.8668,\n",
            "         0.7971],\n",
            "        [0.6908, 0.9816, 0.0609, 0.1464, 0.0706, 0.0027, 0.8640, 0.5803, 0.4613,\n",
            "         0.6124],\n",
            "        [0.2714, 0.4999, 0.7625, 0.2774, 0.8746, 0.9376, 0.9116, 0.7832, 0.5319,\n",
            "         0.0610],\n",
            "        [0.3334, 0.8742, 0.8875, 0.8514, 0.9769, 0.5054, 0.1743, 0.5782, 0.6387,\n",
            "         0.1654],\n",
            "        [0.2468, 0.1066, 0.6560, 0.2760, 0.9504, 0.2974, 0.9581, 0.7234, 0.7691,\n",
            "         0.8447],\n",
            "        [0.8016, 0.6374, 0.1687, 0.2225, 0.3001, 0.2502, 0.9034, 0.3176, 0.6207,\n",
            "         0.7100],\n",
            "        [0.7112, 0.5172, 0.9087, 0.0408, 0.9901, 0.5011, 0.0718, 0.2175, 0.8074,\n",
            "         0.1034],\n",
            "        [0.9826, 0.4219, 0.4828, 0.8512, 0.0843, 0.9871, 0.0678, 0.0941, 0.9533,\n",
            "         0.7084]])\n"
          ]
        },
        {
          "output_type": "error",
          "ename": "IndexError",
          "evalue": "too many indices for tensor of dimension 2",
          "traceback": [
            "\u001b[0;31m---------------------------------------------------------------------------\u001b[0m",
            "\u001b[0;31mIndexError\u001b[0m                                Traceback (most recent call last)",
            "\u001b[0;32m/tmp/ipython-input-2160153758.py\u001b[0m in \u001b[0;36m<cell line: 0>\u001b[0;34m()\u001b[0m\n\u001b[1;32m      4\u001b[0m \u001b[0mprint\u001b[0m\u001b[0;34m(\u001b[0m\u001b[0moutput\u001b[0m\u001b[0;34m)\u001b[0m\u001b[0;34m\u001b[0m\u001b[0;34m\u001b[0m\u001b[0m\n\u001b[1;32m      5\u001b[0m \u001b[0;31m# print(input)\u001b[0m\u001b[0;34m\u001b[0m\u001b[0;34m\u001b[0m\u001b[0m\n\u001b[0;32m----> 6\u001b[0;31m \u001b[0mprint\u001b[0m\u001b[0;34m(\u001b[0m\u001b[0moutput\u001b[0m\u001b[0;34m[\u001b[0m\u001b[0;34m:\u001b[0m\u001b[0;34m,\u001b[0m \u001b[0;34m-\u001b[0m\u001b[0;36m1\u001b[0m\u001b[0;34m,\u001b[0m \u001b[0;34m:\u001b[0m\u001b[0;34m]\u001b[0m\u001b[0;34m)\u001b[0m\u001b[0;34m\u001b[0m\u001b[0;34m\u001b[0m\u001b[0m\n\u001b[0m",
            "\u001b[0;31mIndexError\u001b[0m: too many indices for tensor of dimension 2"
          ]
        }
      ]
    },
    {
      "cell_type": "code",
      "source": [
        "input = torch.rand((4,8,10))\n",
        "B,T,C = input.shape\n",
        "output = input.view(B*T,C)\n",
        "print(output)\n",
        "print(output[:, -1, :])"
      ],
      "metadata": {
        "colab": {
          "base_uri": "https://localhost:8080/",
          "height": 1000
        },
        "id": "YY9CUlO79Eh-",
        "outputId": "1620194a-0475-4e7a-fc6e-cd32c0f16a15"
      },
      "execution_count": 30,
      "outputs": [
        {
          "output_type": "stream",
          "name": "stdout",
          "text": [
            "tensor([[0.8852, 0.7660, 0.6586, 0.3908, 0.8285, 0.6577, 0.3559, 0.1685, 0.2433,\n",
            "         0.5756],\n",
            "        [0.2297, 0.2839, 0.0409, 0.6713, 0.1809, 0.1507, 0.2929, 0.4756, 0.1946,\n",
            "         0.0947],\n",
            "        [0.4487, 0.1633, 0.0799, 0.8572, 0.2679, 0.4532, 0.2865, 0.3355, 0.4799,\n",
            "         0.7165],\n",
            "        [0.4111, 0.4048, 0.5919, 0.5102, 0.3189, 0.1308, 0.0268, 0.3567, 0.9097,\n",
            "         0.7665],\n",
            "        [0.6518, 0.6990, 0.7011, 0.2785, 0.0987, 0.8695, 0.4237, 0.2334, 0.2174,\n",
            "         0.8240],\n",
            "        [0.4483, 0.8667, 0.8333, 0.6895, 0.6228, 0.1393, 0.7095, 0.0552, 0.8277,\n",
            "         0.4628],\n",
            "        [0.2108, 0.1455, 0.0778, 0.9181, 0.2043, 0.2134, 0.4471, 0.9523, 0.8930,\n",
            "         0.0592],\n",
            "        [0.2430, 0.2563, 0.0194, 0.6228, 0.6792, 0.7797, 0.5894, 0.5065, 0.0236,\n",
            "         0.4856],\n",
            "        [0.6295, 0.3710, 0.0852, 0.6992, 0.6372, 0.9591, 0.3105, 0.7229, 0.1474,\n",
            "         0.9871],\n",
            "        [0.4751, 0.2232, 0.6406, 0.4314, 0.0438, 0.3082, 0.9781, 0.7869, 0.0648,\n",
            "         0.7876],\n",
            "        [0.0766, 0.9286, 0.5197, 0.0859, 0.6202, 0.6196, 0.3082, 0.5667, 0.7523,\n",
            "         0.2869],\n",
            "        [0.4445, 0.6953, 0.2765, 0.2304, 0.6329, 0.7863, 0.2447, 0.5917, 0.9885,\n",
            "         0.0649],\n",
            "        [0.1307, 0.9629, 0.3662, 0.6886, 0.0751, 0.0252, 0.1700, 0.4278, 0.6105,\n",
            "         0.2042],\n",
            "        [0.5883, 0.5463, 0.5882, 0.9542, 0.4095, 0.9985, 0.6428, 0.8547, 0.6907,\n",
            "         0.0806],\n",
            "        [0.9190, 0.6014, 0.4995, 0.1019, 0.1762, 0.4769, 0.9427, 0.4302, 0.4546,\n",
            "         0.4705],\n",
            "        [0.0752, 0.2234, 0.6176, 0.3428, 0.6914, 0.4772, 0.9171, 0.6388, 0.8332,\n",
            "         0.4828],\n",
            "        [0.0917, 0.8503, 0.1291, 0.9281, 0.4597, 0.9716, 0.8099, 0.6252, 0.6955,\n",
            "         0.9866],\n",
            "        [0.4461, 0.4144, 0.5928, 0.2097, 0.4650, 0.6691, 0.6772, 0.8164, 0.0736,\n",
            "         0.9289],\n",
            "        [0.9017, 0.0395, 0.8566, 0.1464, 0.2953, 0.0505, 0.9871, 0.3028, 0.6757,\n",
            "         0.5199],\n",
            "        [0.3014, 0.2632, 0.3793, 0.8800, 0.3197, 0.6242, 0.8083, 0.3013, 0.5128,\n",
            "         0.8717],\n",
            "        [0.0102, 0.5899, 0.8720, 0.4663, 0.3523, 0.8674, 0.4497, 0.9846, 0.1008,\n",
            "         0.3395],\n",
            "        [0.7147, 0.2418, 0.4255, 0.2226, 0.8340, 0.4884, 0.1381, 0.8102, 0.8347,\n",
            "         0.6250],\n",
            "        [0.1103, 0.9756, 0.9119, 0.3574, 0.1168, 0.6103, 0.2117, 0.7960, 0.2113,\n",
            "         0.2670],\n",
            "        [0.1853, 0.6488, 0.6550, 0.1411, 0.6630, 0.8252, 0.8916, 0.7238, 0.7334,\n",
            "         0.9224],\n",
            "        [0.4674, 0.6166, 0.6114, 0.3154, 0.2325, 0.5138, 0.8184, 0.5242, 0.5550,\n",
            "         0.2173],\n",
            "        [0.3528, 0.6691, 0.0338, 0.6908, 0.3613, 0.6457, 0.0123, 0.3532, 0.2416,\n",
            "         0.5539],\n",
            "        [0.4192, 0.2954, 0.2261, 0.9900, 0.9463, 0.3575, 0.3615, 0.8253, 0.7200,\n",
            "         0.9309],\n",
            "        [0.2134, 0.4460, 0.1894, 0.7778, 0.2836, 0.2245, 0.3780, 0.3362, 0.0737,\n",
            "         0.8400],\n",
            "        [0.4124, 0.8792, 0.2976, 0.8318, 0.1599, 0.8028, 0.5442, 0.3296, 0.7731,\n",
            "         0.7470],\n",
            "        [0.0843, 0.6488, 0.9506, 0.3324, 0.1607, 0.2673, 0.1063, 0.4221, 0.6350,\n",
            "         0.3983],\n",
            "        [0.9104, 0.8681, 0.2810, 0.0188, 0.8133, 0.5393, 0.0542, 0.0841, 0.6942,\n",
            "         0.3770],\n",
            "        [0.5436, 0.6227, 0.6690, 0.3942, 0.3173, 0.8537, 0.4091, 0.9637, 0.8792,\n",
            "         0.5898]])\n"
          ]
        },
        {
          "output_type": "error",
          "ename": "IndexError",
          "evalue": "too many indices for tensor of dimension 2",
          "traceback": [
            "\u001b[0;31m---------------------------------------------------------------------------\u001b[0m",
            "\u001b[0;31mIndexError\u001b[0m                                Traceback (most recent call last)",
            "\u001b[0;32m/tmp/ipython-input-605703004.py\u001b[0m in \u001b[0;36m<cell line: 0>\u001b[0;34m()\u001b[0m\n\u001b[1;32m      3\u001b[0m \u001b[0moutput\u001b[0m \u001b[0;34m=\u001b[0m \u001b[0minput\u001b[0m\u001b[0;34m.\u001b[0m\u001b[0mview\u001b[0m\u001b[0;34m(\u001b[0m\u001b[0mB\u001b[0m\u001b[0;34m*\u001b[0m\u001b[0mT\u001b[0m\u001b[0;34m,\u001b[0m\u001b[0mC\u001b[0m\u001b[0;34m)\u001b[0m\u001b[0;34m\u001b[0m\u001b[0;34m\u001b[0m\u001b[0m\n\u001b[1;32m      4\u001b[0m \u001b[0mprint\u001b[0m\u001b[0;34m(\u001b[0m\u001b[0moutput\u001b[0m\u001b[0;34m)\u001b[0m\u001b[0;34m\u001b[0m\u001b[0;34m\u001b[0m\u001b[0m\n\u001b[0;32m----> 5\u001b[0;31m \u001b[0mprint\u001b[0m\u001b[0;34m(\u001b[0m\u001b[0moutput\u001b[0m\u001b[0;34m[\u001b[0m\u001b[0;34m:\u001b[0m\u001b[0;34m,\u001b[0m \u001b[0;34m-\u001b[0m\u001b[0;36m1\u001b[0m\u001b[0;34m,\u001b[0m \u001b[0;34m:\u001b[0m\u001b[0;34m]\u001b[0m\u001b[0;34m)\u001b[0m\u001b[0;34m\u001b[0m\u001b[0;34m\u001b[0m\u001b[0m\n\u001b[0m",
            "\u001b[0;31mIndexError\u001b[0m: too many indices for tensor of dimension 2"
          ]
        }
      ]
    },
    {
      "cell_type": "code",
      "source": [
        "x = torch.tensor([-0.05],dtype=torch.float32)\n",
        "y = nn.ReLU(x)\n",
        "print(y)"
      ],
      "metadata": {
        "colab": {
          "base_uri": "https://localhost:8080/"
        },
        "id": "w4E3MBAn946o",
        "outputId": "1037a6fd-02cc-4b5d-d19d-39b307ad483d"
      },
      "execution_count": 31,
      "outputs": [
        {
          "output_type": "stream",
          "name": "stdout",
          "text": [
            "ReLU(inplace=True)\n"
          ]
        }
      ]
    },
    {
      "cell_type": "code",
      "source": [
        "x = torch.tensor([-0.05],dtype=torch.float32)\n",
        "y = F.sigmoid(x)\n",
        "print(y)"
      ],
      "metadata": {
        "colab": {
          "base_uri": "https://localhost:8080/"
        },
        "id": "uX3XO-an-X7E",
        "outputId": "f6d2e77c-8ebd-4b1a-d8db-6c96bc8fea3f"
      },
      "execution_count": 34,
      "outputs": [
        {
          "output_type": "stream",
          "name": "stdout",
          "text": [
            "tensor([0.4875])\n"
          ]
        }
      ]
    },
    {
      "cell_type": "code",
      "source": [
        "x = torch.tensor([10], dtype=torch.float32)\n",
        "y = F.tanh(x)\n",
        "print(y)"
      ],
      "metadata": {
        "colab": {
          "base_uri": "https://localhost:8080/"
        },
        "id": "KhPK3vu3-9Mb",
        "outputId": "a9e739a0-b429-417b-8c33-6460b7c6e174"
      },
      "execution_count": 35,
      "outputs": [
        {
          "output_type": "stream",
          "name": "stdout",
          "text": [
            "tensor([1.])\n"
          ]
        }
      ]
    }
  ]
}