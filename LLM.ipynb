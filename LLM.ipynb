{
  "nbformat": 4,
  "nbformat_minor": 0,
  "metadata": {
    "colab": {
      "provenance": [],
      "gpuType": "T4",
      "authorship_tag": "ABX9TyNoJ1y6wR3xDQ80Zb5HJErv"
    },
    "kernelspec": {
      "name": "python3",
      "display_name": "Python 3"
    },
    "language_info": {
      "name": "python"
    },
    "accelerator": "GPU"
  },
  "cells": [
    {
      "cell_type": "code",
      "execution_count": 6,
      "metadata": {
        "colab": {
          "base_uri": "https://localhost:8080/"
        },
        "id": "do9SQpMIjXwa",
        "outputId": "5d949fa5-0b43-4ed7-eccc-78cdd0826e10"
      },
      "outputs": [
        {
          "output_type": "stream",
          "name": "stdout",
          "text": [
            "['\\n', ' ', '!', '\"', \"'\", ',', '-', '.', '1', '3', '5', '6', '7', '8', '9', ':', ';', '?', 'A', 'B', 'C', 'D', 'E', 'F', 'G', 'H', 'I', 'J', 'K', 'L', 'M', 'N', 'O', 'P', 'Q', 'R', 'S', 'T', 'U', 'V', 'W', 'Y', 'Z', '[', ']', '_', 'a', 'b', 'c', 'd', 'e', 'f', 'g', 'h', 'i', 'j', 'k', 'l', 'm', 'n', 'o', 'p', 'q', 'r', 's', 't', 'u', 'v', 'w', 'x', 'y', 'z', '\\ufeff']\n",
            "73\n"
          ]
        }
      ],
      "source": [
        "with open('wizard_of_oz.txt','r',encoding='utf-8') as file:\n",
        "    text = file.read()\n",
        "chars = sorted(set(text))\n",
        "print(chars)\n",
        "vocubulary_size = len(chars)\n",
        "print(vocubulary_size)"
      ]
    },
    {
      "cell_type": "code",
      "source": [
        "string_to_int = {ch:i for i,ch in enumerate(chars)}\n",
        "int_to_string = {i:ch for i,ch in enumerate(chars)}\n",
        "encode = lambda s: [string_to_int[c] for c in s]\n",
        "decode = lambda l: ''.join([int_to_string[i] for i in l])\n",
        "\n",
        "data = torch.tensor(encode(text),dtype=torch.long)  # algebra and basic torch corpus things\n",
        "print(data[:100])"
      ],
      "metadata": {
        "colab": {
          "base_uri": "https://localhost:8080/"
        },
        "id": "w1PNwxwXljcy",
        "outputId": "bd764404-f806-450a-8fb9-85a6c5c7f403"
      },
      "execution_count": 10,
      "outputs": [
        {
          "output_type": "stream",
          "name": "stdout",
          "text": [
            "tensor([72,  0,  0, 29, 26, 37, 37, 29, 22,  1, 40, 26, 42, 18, 35, 21,  1, 36,\n",
            "        37, 32, 35, 26, 22, 36,  1, 32, 23,  1, 32, 42,  0,  0, 47, 70,  0,  0,\n",
            "        29,  7,  1, 23, 35, 18, 31, 28,  1, 19, 18, 38, 30,  0,  0, 26, 57, 57,\n",
            "        66, 64, 65, 63, 46, 65, 50, 49,  1, 47, 70,  1, 27, 60, 53, 59,  1, 35,\n",
            "         7,  1, 31, 50, 54, 57, 57,  0,  0,  0,  0,  0,  0,  0,  0, 29, 54, 65,\n",
            "        65, 57, 50,  0, 40, 54, 71, 46, 63, 49])\n"
          ]
        }
      ]
    },
    {
      "cell_type": "code",
      "source": [
        "import torch"
      ],
      "metadata": {
        "id": "6DPneC-am8yx"
      },
      "execution_count": 9,
      "outputs": []
    },
    {
      "cell_type": "code",
      "source": [
        "#Training and test\n",
        "n = int(0.8*len(data))\n",
        "train_data = data[:n]\n",
        "val_data = data[n:]"
      ],
      "metadata": {
        "id": "idYENqmgnBhx"
      },
      "execution_count": 11,
      "outputs": []
    },
    {
      "cell_type": "code",
      "source": [
        "block_size=8\n",
        "x= train_data[:block_size]\n",
        "y= train_data[1:block_size+1]\n",
        "\n",
        "for t in range(block_size):\n",
        "    context = x[:t+1]\n",
        "    target = y[t]\n",
        "    print('when input is',context,'target is',target)\n"
      ],
      "metadata": {
        "colab": {
          "base_uri": "https://localhost:8080/"
        },
        "id": "A2ieri2SqcMB",
        "outputId": "24e89574-f901-4a8e-92c5-af42b45d05bb"
      },
      "execution_count": 12,
      "outputs": [
        {
          "output_type": "stream",
          "name": "stdout",
          "text": [
            "when input is tensor([72]) target is tensor(0)\n",
            "when input is tensor([72,  0]) target is tensor(0)\n",
            "when input is tensor([72,  0,  0]) target is tensor(29)\n",
            "when input is tensor([72,  0,  0, 29]) target is tensor(26)\n",
            "when input is tensor([72,  0,  0, 29, 26]) target is tensor(37)\n",
            "when input is tensor([72,  0,  0, 29, 26, 37]) target is tensor(37)\n",
            "when input is tensor([72,  0,  0, 29, 26, 37, 37]) target is tensor(29)\n",
            "when input is tensor([72,  0,  0, 29, 26, 37, 37, 29]) target is tensor(22)\n"
          ]
        }
      ]
    }
  ]
}