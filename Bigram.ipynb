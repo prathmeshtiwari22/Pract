{
  "nbformat": 4,
  "nbformat_minor": 0,
  "metadata": {
    "colab": {
      "provenance": [],
      "authorship_tag": "ABX9TyMK01dx0zG7tNrdmDhZ50xs",
      "include_colab_link": true
    },
    "kernelspec": {
      "name": "python3",
      "display_name": "Python 3"
    },
    "language_info": {
      "name": "python"
    }
  },
  "cells": [
    {
      "cell_type": "markdown",
      "metadata": {
        "id": "view-in-github",
        "colab_type": "text"
      },
      "source": [
        "<a href=\"https://colab.research.google.com/github/prathmeshtiwari22/Pract/blob/main/Bigram.ipynb\" target=\"_parent\"><img src=\"https://colab.research.google.com/assets/colab-badge.svg\" alt=\"Open In Colab\"/></a>"
      ]
    },
    {
      "cell_type": "code",
      "execution_count": 10,
      "metadata": {
        "colab": {
          "base_uri": "https://localhost:8080/"
        },
        "id": "B5JFxltglOC0",
        "outputId": "374ee1d5-4b42-473d-a5cf-ba82cf1bf77a"
      },
      "outputs": [
        {
          "output_type": "stream",
          "name": "stdout",
          "text": [
            "cpu\n"
          ]
        }
      ],
      "source": [
        "import torch\n",
        "import torch.nn as nn\n",
        "from torch.nn import functional as F\n",
        "device = 'cuda' if torch.cuda.is_available() else 'cpu'\n",
        "print(device)\n",
        "block_size = 8\n",
        "batch_size = 4\n",
        "max_iters = 1000\n",
        "# eval_interval = 2500\n",
        "learning_rate = 3e-4\n",
        "eval_iters = 250"
      ]
    },
    {
      "cell_type": "code",
      "source": [
        "with open('wizard_of_oz.txt', 'r', encoding='utf-8') as f:\n",
        "    text = f.read()\n",
        "chars = sorted(set(text))\n",
        "print(chars)\n",
        "vocab_size = len(chars)"
      ],
      "metadata": {
        "colab": {
          "base_uri": "https://localhost:8080/"
        },
        "id": "IMtQ_vxulZdK",
        "outputId": "6ea501c5-e33d-481c-b1e4-74fbcdf4dac5"
      },
      "execution_count": 11,
      "outputs": [
        {
          "output_type": "stream",
          "name": "stdout",
          "text": [
            "['\\n', ' ', '!', '\"', \"'\", ',', '-', '.', '1', '3', '5', '6', '7', '8', '9', ':', ';', '?', 'A', 'B', 'C', 'D', 'E', 'F', 'G', 'H', 'I', 'J', 'K', 'L', 'M', 'N', 'O', 'P', 'Q', 'R', 'S', 'T', 'U', 'V', 'W', 'Y', 'Z', '[', ']', '_', 'a', 'b', 'c', 'd', 'e', 'f', 'g', 'h', 'i', 'j', 'k', 'l', 'm', 'n', 'o', 'p', 'q', 'r', 's', 't', 'u', 'v', 'w', 'x', 'y', 'z', '\\ufeff']\n"
          ]
        }
      ]
    },
    {
      "cell_type": "code",
      "source": [
        "string_to_int = { ch:i for i,ch in enumerate(chars) }\n",
        "int_to_string = { i:ch for i,ch in enumerate(chars) }\n",
        "encode = lambda s: [string_to_int[c] for c in s]\n",
        "decode = lambda l: ''.join([int_to_string[i] for i in l])\n",
        "\n",
        "data = torch.tensor(encode(text), dtype=torch.long)\n",
        "# print(data[:100])"
      ],
      "metadata": {
        "id": "gt0kiluflp9Z"
      },
      "execution_count": 12,
      "outputs": []
    },
    {
      "cell_type": "code",
      "source": [
        "n = int(0.8*len(data))\n",
        "train_data = data[:n]\n",
        "val_data = data[n:]\n",
        "\n",
        "def get_batch(split):\n",
        "    data = train_data if split == 'train' else val_data\n",
        "    ix = torch.randint(len(data) - block_size, (batch_size,))\n",
        "    x = torch.stack([data[i:i+block_size] for i in ix])\n",
        "    y = torch.stack([data[i+1:i+block_size+1] for i in ix])\n",
        "    x, y = x.to(device), y.to(device)\n",
        "    return x, y\n",
        "\n",
        "x, y = get_batch('train')\n",
        "print('inputs:')\n",
        "# print(x.shape)\n",
        "print(x)\n",
        "print('targets:')\n",
        "print(y)"
      ],
      "metadata": {
        "colab": {
          "base_uri": "https://localhost:8080/"
        },
        "id": "Vl_PZYnslwjA",
        "outputId": "bc1fc346-5c45-4b5f-ea3f-1f52e99c2ed8"
      },
      "execution_count": 13,
      "outputs": [
        {
          "output_type": "stream",
          "name": "stdout",
          "text": [
            "inputs:\n",
            "tensor([[59, 65,  1, 65, 60,  1, 64, 65],\n",
            "        [64, 54, 65, 50, 49,  1, 47, 50],\n",
            "        [63, 50,  1, 65, 53, 46, 65,  1],\n",
            "        [50,  1, 48, 46, 63, 50, 51, 66]])\n",
            "targets:\n",
            "tensor([[65,  1, 65, 60,  1, 64, 65, 46],\n",
            "        [54, 65, 50, 49,  1, 47, 50, 64],\n",
            "        [50,  1, 65, 53, 46, 65,  1, 46],\n",
            "        [ 1, 48, 46, 63, 50, 51, 66, 57]])\n"
          ]
        }
      ]
    },
    {
      "cell_type": "code",
      "source": [
        "@torch.no_grad()\n",
        "def estimate_loss():\n",
        "    out = {}\n",
        "    model.eval()\n",
        "    for split in ['train', 'val']:\n",
        "        losses = torch.zeros(eval_iters)\n",
        "        for k in range(eval_iters):\n",
        "            X, Y = get_batch(split)\n",
        "            logits, loss = model(X, Y)\n",
        "            losses[k] = loss.item()\n",
        "        out[split] = losses.mean()\n",
        "    model.train()\n",
        "    return out"
      ],
      "metadata": {
        "id": "xhnzMfz9l8hO"
      },
      "execution_count": 14,
      "outputs": []
    },
    {
      "cell_type": "code",
      "source": [
        "class BigramLanguageModel(nn.Module):\n",
        "    def __init__(self, vocab_size):\n",
        "        super().__init__()\n",
        "        self.token_embedding_table = nn.Embedding(vocab_size, vocab_size)\n",
        "\n",
        "    def forward(self, index, targets=None):\n",
        "        logits = self.token_embedding_table(index)\n",
        "\n",
        "\n",
        "        if targets is None:\n",
        "            loss = None\n",
        "        else:\n",
        "            B, T, C = logits.shape\n",
        "            logits = logits.view(B*T, C)\n",
        "            targets = targets.view(B*T)\n",
        "            loss = F.cross_entropy(logits, targets)\n",
        "\n",
        "        return logits, loss\n",
        "\n",
        "    def generate(self, index, max_new_tokens):\n",
        "        # index is (B, T) array of indices in the current context\n",
        "        for _ in range(max_new_tokens):\n",
        "            # get the predictions\n",
        "            logits, loss = self.forward(index)\n",
        "            # focus only on the last time step\n",
        "            logits = logits[:, -1, :] # becomes (B, C)\n",
        "            # apply softmax to get probabilities\n",
        "            probs = F.softmax(logits, dim=-1) # (B, C)\n",
        "            # sample from the distribution\n",
        "            index_next = torch.multinomial(probs, num_samples=1) # (B, 1)\n",
        "            # append sampled index to the running sequence\n",
        "            index = torch.cat((index, index_next), dim=1) # (B, T+1)\n",
        "        return index\n",
        "\n",
        "model = BigramLanguageModel(vocab_size)\n",
        "m = model.to(device)\n",
        "\n",
        "context = torch.zeros((1,1), dtype=torch.long, device=device)\n",
        "generated_chars = decode(m.generate(context, max_new_tokens=500)[0].tolist())\n",
        "print(generated_chars)"
      ],
      "metadata": {
        "colab": {
          "base_uri": "https://localhost:8080/"
        },
        "id": "5NMkYoNhmImu",
        "outputId": "a9cc5128-2ed1-4073-ea01-5ae2815af551"
      },
      "execution_count": 15,
      "outputs": [
        {
          "output_type": "stream",
          "name": "stdout",
          "text": [
            "\n",
            "LYqysYw7z6FY,kEGf\n",
            "je-sFKCRjRzOot;QBjHgDz-oqER-sRVSB5-svWRDYT[A59xV  ZxBBug6.VsF!7AGVfjpoa[pt]7kw5ZB7nPYOa?,hWSSiMb1Y 87sH\n",
            "jR﻿.9?:Nwn].kg eORDg﻿JWUOEKMDAwT[povJA5xr_kz:9K: 1BN'.F8nJCyK;LhB-fn6iDeMq?mKhY-pn3lrwR﻿R3wxoIaSLF﻿lwqJ qJO51BG.TNiOxf_hCn3l QSo9a1B6!yKR\n",
            "G,h9z,h\"gw8F]Uh1B,Vi8F﻿FcgwD8seP_39bUE;Lf_m\n",
            "5[.A.7hG_H,zPA6y5U!1Bx\n",
            "[YrGV8E\"dDj.Aw]sWKYYkw px\n",
            "HWB-OKBqqPeMd.LGTox!D;LhG:,vuw[hYdk.dwT1B[hV﻿otyJO\"[UpI:tLvWT7hEj]7\"y'av8Q.5:!WOm7t]spVPL?PldK!DDIzHY?﻿j?﻿fGuklAhDAh1QVH1BhxilFYYzOw; ﻿ldIilM6p5gLf\n"
          ]
        }
      ]
    },
    {
      "cell_type": "code",
      "source": [
        "# create a PyTorch optimizer\n",
        "optimizer = torch.optim.AdamW(model.parameters(), lr=learning_rate)\n",
        "\n",
        "for iter in range(max_iters):\n",
        "    if iter % eval_iters == 0:\n",
        "        losses = estimate_loss()\n",
        "        print(f\"step: {iter}, train loss: {losses['train']:.3f}, val loss: {losses['val']:.3f}\")\n",
        "\n",
        "    # sample a batch of data\n",
        "    xb, yb = get_batch('train')\n",
        "\n",
        "    # evaluate the loss\n",
        "    logits, loss = model.forward(xb, yb)\n",
        "    optimizer.zero_grad(set_to_none=True)\n",
        "    loss.backward()\n",
        "    optimizer.step()\n",
        "print(loss.item())"
      ],
      "metadata": {
        "colab": {
          "base_uri": "https://localhost:8080/"
        },
        "id": "_w38JVFqpbjG",
        "outputId": "5b89c842-6169-49e0-82c3-0ebb3f5cc9f5"
      },
      "execution_count": 16,
      "outputs": [
        {
          "output_type": "stream",
          "name": "stdout",
          "text": [
            "step: 0, train loss: 4.743, val loss: 4.726\n",
            "step: 250, train loss: 4.659, val loss: 4.669\n",
            "step: 500, train loss: 4.601, val loss: 4.614\n",
            "step: 750, train loss: 4.553, val loss: 4.542\n",
            "4.391861915588379\n"
          ]
        }
      ]
    },
    {
      "cell_type": "markdown",
      "source": [
        "Loss function = How many mistakes you made.\n",
        "\n",
        "Optimizer = Teacher correcting you step by step.\n",
        "\n",
        "GD = slow careful walk.\n",
        "\n",
        "SGD = quick, noisy steps.\n",
        "\n",
        "Momentum = adds speed + direction.\n",
        "\n",
        "RMSprop = adjusts step size smartly.\n",
        "\n",
        "Adam = best of Momentum + RMSprop.\n",
        "\n",
        "AdamW = Adam + discipline (regularization)."
      ],
      "metadata": {
        "id": "oAgwVqoHyEP0"
      }
    },
    {
      "cell_type": "code",
      "source": [
        "context = torch.zeros((1,1), dtype=torch.long, device=device)\n",
        "generated_chars = decode(m.generate(context, max_new_tokens=500)[0].tolist())\n",
        "print(generated_chars)"
      ],
      "metadata": {
        "colab": {
          "base_uri": "https://localhost:8080/"
        },
        "id": "rv-Yu7JvyJCs",
        "outputId": "22ea684f-b718-49f2-8e48-20e1fd653bbb"
      },
      "execution_count": 17,
      "outputs": [
        {
          "output_type": "stream",
          "name": "stdout",
          "text": [
            "\n",
            "jE yeTo!CL3 eMvPyUpshJE'yjwFj.!'ZI\"]6﻿NiM-jE﻿PqfzOSii:xdk:c]CV SM6_yUzIu'f1u1YyNiFpiC!GWbF,rVJ?:,eKlM15qu1' LwM3\"OS] B8m rCE]qsm?eMvg9zfqFl;g6 v;﻿jc1j _I-a7UA\n",
            "j?u66B[yQNPJAs_W1BId?PU5WWOiJ7bVs;cA'Yqm,nJT]7buUn]W9 C]U3bh96Q]E:FvDldU7sc,hVa PIKbWW,dN'ZrLGs!htV]7am nA5ONilsR6xou].!wtVH﻿sWD\":P1BR:9z-T\"c_pf953sp5[; ldJ15wnJd\n",
            "iyOw;L87!n:A.AsLSrJNmn??JSM!9zG5]A';xffAaSRe-1oG,jK3,Ply-sY_u6KDlFh1BN7bd1Btv]su9K_f!ks3vai!WMqPN]sRCUskvglWrZYMgaCciOxSZ'oQ1B8bd,VPaJ -ata]:'zFiRV\":6pTEAu'.k8ZtzTfldC6 T]3caOk9h\n"
          ]
        }
      ]
    }
  ]
}